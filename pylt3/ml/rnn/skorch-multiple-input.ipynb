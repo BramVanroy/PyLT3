{
 "cells": [
  {
   "cell_type": "code",
   "execution_count": 19,
   "metadata": {},
   "outputs": [
    {
     "name": "stdout",
     "output_type": "stream",
     "text": [
      "  epoch    train_loss    valid_loss     dur\n",
      "-------  ------------  ------------  ------\n",
      "      1        0.2897        0.1827  4.1738\n",
      "      2        0.2000        0.1339  4.1319\n",
      "      3        0.1531        0.1085  4.0821\n",
      "      4        0.1274        0.0957  4.1040\n",
      "      5        0.1158        0.0892  4.0711\n",
      "      6        0.1073        0.0862  4.1459\n",
      "      7        0.1022        0.0850  4.1629\n",
      "      8        0.0968        0.0845  4.1509\n",
      "      9        0.0959        0.0844  4.3773\n",
      "     10        0.0927        0.0844  4.5688\n",
      "     11        0.0907        0.0846  4.2865\n",
      "     12        0.0903        0.0848  4.0701\n",
      "     13        0.0892        0.0850  4.2915\n",
      "     14        0.0872        0.0851  4.0911\n",
      "     15        0.0876        0.0852  4.0422\n",
      "     16        0.0854        0.0854  4.0472\n",
      "     17        0.0859        0.0856  4.0552\n",
      "     18        0.0871        0.0857  4.1050\n",
      "     19        0.0845        0.0860  4.0013\n",
      "     20        0.0809        0.0862  4.1020\n"
     ]
    },
    {
     "data": {
      "text/plain": [
       "<class 'skorch.regressor.NeuralNetRegressor'>[initialized](\n",
       "  module_=Regressor(\n",
       "    (gru1): GRU(128, 512, batch_first=True)\n",
       "    (gru2): GRU(256, 512, batch_first=True)\n",
       "    (dropout): Dropout(p=0.2)\n",
       "    (linear): Linear(in_features=1024, out_features=1, bias=True)\n",
       "  ),\n",
       ")"
      ]
     },
     "execution_count": 19,
     "metadata": {},
     "output_type": "execute_result"
    }
   ],
   "source": [
    "import torch\n",
    "from torch import nn, optim\n",
    "import torch.nn.functional as F\n",
    "\n",
    "from skorch import NeuralNetRegressor\n",
    "\n",
    "\n",
    "class Regressor(nn.Module):\n",
    "    def __init__(self, hidden_dim, feats1_dim, feats2_dim=None, drop_prob=0):\n",
    "        super(Regressor, self).__init__()\n",
    "        \n",
    "        self.gru1 = nn.GRU(feats1_dim, hidden_dim, batch_first=True)\n",
    "        self.gru2 = nn.GRU(feats2_dim, hidden_dim, batch_first=True) if feats2_dim else None\n",
    "        self.dropout = nn.Dropout(drop_prob)\n",
    "        self.linear = nn.Linear(hidden_dim*2 if feats2_dim else hidden_dim, 1)\n",
    "\n",
    "    def forward(self, feats1, feats2=None):\n",
    "        out, _ = self.gru1(feats1)\n",
    "        \n",
    "        if feats2 is not None:\n",
    "            gru2_out, _ = self.gru2(feats2)\n",
    "            out = torch.cat((out, gru2_out), dim=2)\n",
    "        \n",
    "        out = out[:, -1, :]\n",
    "        \n",
    "        out = self.dropout(out)\n",
    "        out = self.linear(out)\n",
    "        \n",
    "        return out\n",
    "\n",
    "N_SAMPLES = 1024\n",
    "HIDDEN_DIM = 512\n",
    "FEATS1_DIM = 128\n",
    "FEATS2_DIM = 256\n",
    "\n",
    "X = {\n",
    "    'feats1': torch.randn(N_SAMPLES, 32, FEATS1_DIM),\n",
    "    'feats2': torch.randn(N_SAMPLES, 32, FEATS2_DIM)\n",
    "}\n",
    "\n",
    "targets = torch.rand(N_SAMPLES, 1)\n",
    "\n",
    "net = NeuralNetRegressor(module=Regressor,\n",
    "                         module__hidden_dim=HIDDEN_DIM,\n",
    "                         module__feats1_dim=FEATS1_DIM,\n",
    "                         module__feats2_dim=FEATS2_DIM,                         \n",
    "                         module__drop_prob=0.2,\n",
    "                         batch_size=128,\n",
    "                         max_epochs=20)\n",
    "\n",
    "net.fit(X, targets)"
   ]
  },
  {
   "cell_type": "code",
   "execution_count": null,
   "metadata": {},
   "outputs": [],
   "source": []
  }
 ],
 "metadata": {
  "kernelspec": {
   "display_name": "Python 3",
   "language": "python",
   "name": "python3"
  },
  "language_info": {
   "codemirror_mode": {
    "name": "ipython",
    "version": 3
   },
   "file_extension": ".py",
   "mimetype": "text/x-python",
   "name": "python",
   "nbconvert_exporter": "python",
   "pygments_lexer": "ipython3",
   "version": "3.7.1"
  }
 },
 "nbformat": 4,
 "nbformat_minor": 2
}
