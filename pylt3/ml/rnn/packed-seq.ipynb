{
 "cells": [
  {
   "cell_type": "code",
   "execution_count": 1,
   "metadata": {},
   "outputs": [
    {
     "data": {
      "text/plain": [
       "<torch._C.Generator at 0x212393ecfd0>"
      ]
     },
     "execution_count": 1,
     "metadata": {},
     "output_type": "execute_result"
    }
   ],
   "source": [
    "import torch\n",
    "from torch.nn.utils.rnn import pack_padded_sequence, pad_packed_sequence\n",
    "\n",
    "torch.manual_seed(1)"
   ]
  },
  {
   "cell_type": "code",
   "execution_count": 4,
   "metadata": {},
   "outputs": [
    {
     "name": "stdout",
     "output_type": "stream",
     "text": [
      "torch.Size([14, 3])\n",
      "tensor([[ 0.1113, -0.1464, -0.0808,  0.4246, -0.0120,  0.0067,  0.0358,  0.1357,\n",
      "         -0.0863,  0.4831, -0.1930, -0.3267],\n",
      "        [ 0.1503, -0.0321, -0.1086,  0.2450,  0.1059,  0.1283,  0.0446,  0.1071,\n",
      "          0.0641,  0.1783, -0.0487, -0.1514],\n",
      "        [ 0.0917, -0.1527, -0.0611,  0.3765, -0.0246,  0.0475,  0.0435,  0.0724,\n",
      "         -0.0837,  0.4440, -0.1945, -0.2148],\n",
      "        [-0.0359, -0.1255, -0.0102,  0.1634,  0.0260, -0.0433,  0.0235,  0.1040,\n",
      "         -0.0656,  0.2121, -0.2176, -0.1420]], grad_fn=<CatBackward>)\n",
      "tensor([[ 0.1113, -0.1464, -0.0808,  0.4246, -0.0120,  0.0067,  0.0358,  0.1357,\n",
      "         -0.0863,  0.4831, -0.1930, -0.3267],\n",
      "        [ 0.1503, -0.0321, -0.1086,  0.2450,  0.1059,  0.1283,  0.0446,  0.1071,\n",
      "          0.0641,  0.1783, -0.0487, -0.1514],\n",
      "        [ 0.0917, -0.1527, -0.0611,  0.3765, -0.0246,  0.0475,  0.0435,  0.0724,\n",
      "         -0.0837,  0.4440, -0.1945, -0.2148],\n",
      "        [-0.0359, -0.1255, -0.0102,  0.1634,  0.0260, -0.0433,  0.0235,  0.1040,\n",
      "         -0.0656,  0.2121, -0.2176, -0.1420]], grad_fn=<IndexBackward>)\n"
     ]
    }
   ],
   "source": [
    "# Data\n",
    "input = torch.Tensor([[[0., 0., 0.],\n",
    "                       [1., 0., 1.],\n",
    "                       [1., 1., 0.],\n",
    "                       [1., 0., 1.],\n",
    "                       [1., 0., 1.],\n",
    "                       [1., 1., 0.]],\n",
    "                      \n",
    "                      [[1., 1., 0.],\n",
    "                       [0., 1., 0.],\n",
    "                       [0., 0., 0.],\n",
    "                       [0., 1., 0.],\n",
    "                       [0., 0., 0.],\n",
    "                       [0., 0., 0.]],\n",
    "\n",
    "                      [[0., 0., 0.],\n",
    "                       [1., 0., 0.],\n",
    "                       [1., 1., 1.],\n",
    "                       [0., 0., 0.],\n",
    "                       [0., 0., 0.],\n",
    "                       [0., 0., 0.]],\n",
    "\n",
    "                      [[1., 1., 0.],\n",
    "                       [0., 0., 0.],\n",
    "                       [0., 0., 0.],\n",
    "                       [0., 0., 0.],\n",
    "                       [0., 0., 0.],\n",
    "                       [0., 0., 0.]]])\n",
    "\n",
    "lengths = [6, 4, 3, 1]\n",
    "p = pack_padded_sequence(input, lengths, batch_first=True)\n",
    "print(p.data.size())\n",
    "# Forward\n",
    "gru = torch.nn.GRU(3, 12, batch_first=True)\n",
    "packed_output, gru_h = gru(p)\n",
    "\n",
    "# Unpack\n",
    "output, input_sizes = pad_packed_sequence(packed_output, batch_first=True)\n",
    "\n",
    "\n",
    "last_seq2 = output[torch.arange(len(input_sizes)), input_sizes-1, :]\n",
    "\n",
    "print(last_seq2)\n",
    "# torch.Size([4, 4, 12])"
   ]
  },
  {
   "cell_type": "code",
   "execution_count": 5,
   "metadata": {},
   "outputs": [
    {
     "name": "stdout",
     "output_type": "stream",
     "text": [
      "tensor([0, 1, 2, 3]) tensor([5, 3, 2, 0])\n",
      "tensor([[-0.1295,  0.4063, -0.0367, -0.0375, -0.1221, -0.3483, -0.4660, -0.1761,\n",
      "          0.1733,  0.2300,  0.0579, -0.2004],\n",
      "        [-0.0055,  0.3036,  0.2267,  0.2119, -0.1046, -0.2049, -0.2088, -0.0929,\n",
      "          0.2162,  0.0797,  0.1765, -0.2092],\n",
      "        [-0.2850,  0.3580, -0.0624,  0.0101, -0.1182, -0.2946, -0.4395, -0.1245,\n",
      "          0.1273,  0.1532,  0.0023, -0.1574],\n",
      "        [-0.1333,  0.2162,  0.0119,  0.0210, -0.1520, -0.2365, -0.2237, -0.1484,\n",
      "          0.0878,  0.1244, -0.0127, -0.2105]], grad_fn=<IndexBackward>)\n"
     ]
    }
   ],
   "source": [
    "# Data\n",
    "input2 = torch.Tensor([[[0., 0., 0.],\n",
    "                       [1., 0., 1.],\n",
    "                       [1., 1., 0.],\n",
    "                       [1., 0., 1.],\n",
    "                       [1., 0., 1.],\n",
    "                       [1., 1., 0.]],\n",
    "\n",
    "                      [[1., 1., 0.],\n",
    "                       [0., 1., 0.],\n",
    "                       [0., 0., 0.],\n",
    "                       [0., 1., 0.],\n",
    "                       [0., 0., 0.],\n",
    "                       [0., 0., 0.]],\n",
    "\n",
    "                      [[0., 0., 0.],\n",
    "                       [1., 0., 0.],\n",
    "                       [1., 1., 1.],\n",
    "                       [0., 0., 0.],\n",
    "                       [0., 0., 0.],\n",
    "                       [0., 0., 0.]],\n",
    "\n",
    "                      [[1., 1., 0.],\n",
    "                       [0., 0., 0.],\n",
    "                       [0., 0., 0.],\n",
    "                       [0., 0., 0.],\n",
    "                       [0., 0., 0.],\n",
    "                       [0., 0., 0.]]])\n",
    "\n",
    "lengths2 = [6, 4, 3, 1]\n",
    "p2 = pack_padded_sequence(input2, lengths2, batch_first=True)\n",
    "\n",
    "# Forward\n",
    "gru2 = torch.nn.GRU(3, 12, batch_first=True)\n",
    "packed_output2, gru_h2 = gru2(p2)\n",
    "\n",
    "# Unpack\n",
    "output2, input_sizes2 = pad_packed_sequence(packed_output2, batch_first=True)\n",
    "\n",
    "print(torch.arange(4), input_sizes2-1)\n",
    "\n",
    "last_seq_items2=output2[torch.arange(4), input_sizes2-1, :]\n",
    "\n",
    "print(last_seq_items2)\n",
    "# torch.Size([4, 4, 12])"
   ]
  },
  {
   "cell_type": "code",
   "execution_count": null,
   "metadata": {},
   "outputs": [],
   "source": []
  },
  {
   "cell_type": "code",
   "execution_count": null,
   "metadata": {},
   "outputs": [],
   "source": []
  }
 ],
 "metadata": {
  "kernelspec": {
   "display_name": "Python 3",
   "language": "python",
   "name": "python3"
  },
  "language_info": {
   "codemirror_mode": {
    "name": "ipython",
    "version": 3
   },
   "file_extension": ".py",
   "mimetype": "text/x-python",
   "name": "python",
   "nbconvert_exporter": "python",
   "pygments_lexer": "ipython3",
   "version": "3.7.1"
  }
 },
 "nbformat": 4,
 "nbformat_minor": 2
}
